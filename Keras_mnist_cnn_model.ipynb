{
  "nbformat": 4,
  "nbformat_minor": 0,
  "metadata": {
    "colab": {
      "name": "Keras_mnist_cnn_model.ipynb",
      "provenance": [],
      "authorship_tag": "ABX9TyNZx1PvCBONp85h4WCrnfjm",
      "include_colab_link": true
    },
    "kernelspec": {
      "name": "python3",
      "display_name": "Python 3"
    },
    "accelerator": "GPU"
  },
  "cells": [
    {
      "cell_type": "markdown",
      "metadata": {
        "id": "view-in-github",
        "colab_type": "text"
      },
      "source": [
        "<a href=\"https://colab.research.google.com/github/George-Nyamao/keras_mnist_inference/blob/master/Keras_mnist_cnn_model.ipynb\" target=\"_parent\"><img src=\"https://colab.research.google.com/assets/colab-badge.svg\" alt=\"Open In Colab\"/></a>"
      ]
    },
    {
      "cell_type": "markdown",
      "metadata": {
        "id": "llcEZXwSFb95",
        "colab_type": "text"
      },
      "source": [
        "**Mount Google Drive to Save Model**"
      ]
    },
    {
      "cell_type": "code",
      "metadata": {
        "id": "hxTjmG1lFJYV",
        "colab_type": "code",
        "colab": {
          "base_uri": "https://localhost:8080/",
          "height": 121
        },
        "outputId": "b2ab4dc7-5985-4dbb-b992-0dcdf084b3be"
      },
      "source": [
        "# Load the Drive helper and mount\n",
        "from google.colab import drive\n",
        "from os.path import join\n",
        "ROOT = \"/content/drive/\"\n",
        "drive.mount(ROOT)"
      ],
      "execution_count": 1,
      "outputs": [
        {
          "output_type": "stream",
          "text": [
            "Go to this URL in a browser: https://accounts.google.com/o/oauth2/auth?client_id=947318989803-6bn6qk8qdgf4n4g3pfee6491hc0brc4i.apps.googleusercontent.com&redirect_uri=urn%3aietf%3awg%3aoauth%3a2.0%3aoob&response_type=code&scope=email%20https%3a%2f%2fwww.googleapis.com%2fauth%2fdocs.test%20https%3a%2f%2fwww.googleapis.com%2fauth%2fdrive%20https%3a%2f%2fwww.googleapis.com%2fauth%2fdrive.photos.readonly%20https%3a%2f%2fwww.googleapis.com%2fauth%2fpeopleapi.readonly\n",
            "\n",
            "Enter your authorization code:\n",
            "··········\n",
            "Mounted at /content/drive/\n"
          ],
          "name": "stdout"
        }
      ]
    },
    {
      "cell_type": "code",
      "metadata": {
        "id": "IBo_rI2nF4D6",
        "colab_type": "code",
        "colab": {
          "base_uri": "https://localhost:8080/",
          "height": 34
        },
        "outputId": "666302e6-bded-4e0e-ba50-ed6ff45850f0"
      },
      "source": [
        "# My Google drive path\n",
        "GDRIVE_PATH = 'My Drive/ColabSaves/'\n",
        "FILEPATH = join(ROOT, GDRIVE_PATH)\n",
        "print(\"File Path : \", FILEPATH)"
      ],
      "execution_count": 2,
      "outputs": [
        {
          "output_type": "stream",
          "text": [
            "File Path :  /content/drive/My Drive/ColabSaves/\n"
          ],
          "name": "stdout"
        }
      ]
    },
    {
      "cell_type": "markdown",
      "metadata": {
        "id": "FbotCXdtGS2R",
        "colab_type": "text"
      },
      "source": [
        "**MNIST Handwriting Using CNN and Keras**"
      ]
    },
    {
      "cell_type": "code",
      "metadata": {
        "id": "JWn1EUUqF8hg",
        "colab_type": "code",
        "colab": {}
      },
      "source": [
        "# Import libraries\n",
        "import tensorflow\n",
        "from tensorflow.keras.datasets import mnist\n",
        "from tensorflow.keras.models import Sequential\n",
        "from tensorflow.keras.layers import Dense, Dropout, Conv2D, MaxPooling2D, Flatten\n",
        "from tensorflow.keras.optimizers import RMSprop"
      ],
      "execution_count": 0,
      "outputs": []
    },
    {
      "cell_type": "code",
      "metadata": {
        "id": "F4KrD2wBGzPP",
        "colab_type": "code",
        "colab": {
          "base_uri": "https://localhost:8080/",
          "height": 50
        },
        "outputId": "be966f74-0ecb-401b-b0f8-4178d1d24684"
      },
      "source": [
        "# Load raw data\n",
        "(train_images, train_labels), (test_images, test_labels) = mnist.load_data()"
      ],
      "execution_count": 4,
      "outputs": [
        {
          "output_type": "stream",
          "text": [
            "Downloading data from https://storage.googleapis.com/tensorflow/tf-keras-datasets/mnist.npz\n",
            "11493376/11490434 [==============================] - 0s 0us/step\n"
          ],
          "name": "stdout"
        }
      ]
    },
    {
      "cell_type": "markdown",
      "metadata": {
        "id": "DXQ5MmUoHQvm",
        "colab_type": "text"
      },
      "source": [
        "The images are of 28x28 pixels,and therefore we need to shape them as 1x28x28 or 28x28x1, where the \"1\" indicates it's a single channel since the images are in grayscal. Color images would have had a \"3\" instead."
      ]
    },
    {
      "cell_type": "code",
      "metadata": {
        "id": "eHR71ng1Hb0w",
        "colab_type": "code",
        "colab": {}
      },
      "source": [
        "from tensorflow.keras import backend as k\n",
        "\n",
        "if k.image_data_format() == 'channels_first':\n",
        "    x_train = train_images.reshape(train_images.shape[0], 1, 28, 28)\n",
        "    x_test = test_images.reshape(test_images.shape[0], 1, 28, 28)\n",
        "    input_shape = (1, 28, 28)\n",
        "else:\n",
        "    x_train = train_images.reshape(train_images.shape[0], 28, 28, 1)\n",
        "    x_test = test_images.reshape(test_images.shape[0], 28, 28, 1)\n",
        "    input_shape = (28, 28, 1)"
      ],
      "execution_count": 0,
      "outputs": []
    },
    {
      "cell_type": "markdown",
      "metadata": {
        "id": "d9NtBHXhIKX_",
        "colab_type": "text"
      },
      "source": [
        "We then convert them to float and scale them between 0 and 1 by dividing by 255."
      ]
    },
    {
      "cell_type": "code",
      "metadata": {
        "id": "hMaGumYPIN5P",
        "colab_type": "code",
        "colab": {}
      },
      "source": [
        "x_train = x_train.astype('float32')\n",
        "x_test = x_test.astype('float32')\n",
        "\n",
        "x_train /= 255\n",
        "x_test /= 255"
      ],
      "execution_count": 0,
      "outputs": []
    },
    {
      "cell_type": "markdown",
      "metadata": {
        "id": "gx8TymoZI0Fo",
        "colab_type": "text"
      },
      "source": [
        "We also convert our train and test labels to categorical in one-hot format."
      ]
    },
    {
      "cell_type": "code",
      "metadata": {
        "id": "-n_aR7KbIwh8",
        "colab_type": "code",
        "colab": {}
      },
      "source": [
        "y_train = tensorflow.keras.utils.to_categorical(train_labels, 10)\n",
        "y_test = tensorflow.keras.utils.to_categorical(test_labels, 10)"
      ],
      "execution_count": 0,
      "outputs": []
    },
    {
      "cell_type": "markdown",
      "metadata": {
        "id": "f7SEkh4hJfUl",
        "colab_type": "text"
      },
      "source": [
        "Print out one sample"
      ]
    },
    {
      "cell_type": "code",
      "metadata": {
        "id": "6TBqkaVhJPoX",
        "colab_type": "code",
        "colab": {
          "base_uri": "https://localhost:8080/",
          "height": 298
        },
        "outputId": "cd2a66a6-c087-418d-c73f-abc07e8c6f96"
      },
      "source": [
        "%matplotlib inline\n",
        "import matplotlib.pyplot as plt\n",
        "\n",
        "def display_sample(num):\n",
        "    #Print the one-hot array of this sample's label \n",
        "    print(y_train[num])  \n",
        "    #Print the label converted back to a number\n",
        "    label = y_train[num].argmax(axis=0)\n",
        "    #Reshape the 768 values to a 28x28 image\n",
        "    image = x_train[num].reshape([28,28])\n",
        "    plt.title('Sample: %d  Label: %d' % (num, label))\n",
        "    plt.imshow(image, cmap=plt.get_cmap('gray_r'))\n",
        "    plt.show()\n",
        "    \n",
        "display_sample(4312)"
      ],
      "execution_count": 23,
      "outputs": [
        {
          "output_type": "stream",
          "text": [
            "[0. 0. 0. 0. 0. 1. 0. 0. 0. 0.]\n"
          ],
          "name": "stdout"
        },
        {
          "output_type": "display_data",
          "data": {
            "image/png": "[encoded data removed]",
            "text/plain": [
              "<Figure size 432x288 with 1 Axes>"
            ]
          },
          "metadata": {
            "tags": [],
            "needs_background": "light"
          }
        }
      ]
    },
    {
      "cell_type": "markdown",
      "metadata": {
        "id": "DrEAlg53KGLP",
        "colab_type": "text"
      },
      "source": [
        "**Build Model**"
      ]
    },
    {
      "cell_type": "markdown",
      "metadata": {
        "id": "ELEc7wzEKQyC",
        "colab_type": "text"
      },
      "source": [
        "We borrow the best model from our Keras-cnn-mnist-tuning.ipynb. Our first model will have two Conv2D layers, one MaxPooling2D layer, two Dropout layers, a Flatten and then two Dense layers. We will use a batch size of 32 and the default learning rate of 0.001."
      ]
    },
    {
      "cell_type": "code",
      "metadata": {
        "id": "fJa9tSg4J83-",
        "colab_type": "code",
        "colab": {
          "base_uri": "https://localhost:8080/",
          "height": 437
        },
        "outputId": "240194e5-a298-46cf-8c7f-204c165e5abb"
      },
      "source": [
        "model = Sequential()\n",
        "model.add(Conv2D(32, kernel_size=(3, 3),\n",
        "                  activation='relu',\n",
        "                  input_shape=input_shape))\n",
        "# 64 3x3 kernels\n",
        "model.add(Conv2D(64, (3, 3), activation='relu'))\n",
        "# Reduce by taking the max of each 2x2 block\n",
        "model.add(MaxPooling2D(pool_size=(2, 2)))\n",
        "# Dropout to avoid overfitting\n",
        "model.add(Dropout(0.25))\n",
        "# Flatten the results to one dimension for passing into our final layer\n",
        "model.add(Flatten())\n",
        "# A hidden layer to learn with\n",
        "model.add(Dense(128, activation='relu'))\n",
        "# Another dropout\n",
        "model.add(Dropout(0.5))\n",
        "# Final categorization from 0-9 with softmax\n",
        "model.add(Dense(10, activation='softmax'))\n",
        "\n",
        "print(model.summary())"
      ],
      "execution_count": 9,
      "outputs": [
        {
          "output_type": "stream",
          "text": [
            "Model: \"sequential\"\n",
            "_________________________________________________________________\n",
            "Layer (type)                 Output Shape              Param #   \n",
            "=================================================================\n",
            "conv2d (Conv2D)              (None, 26, 26, 32)        320       \n",
            "_________________________________________________________________\n",
            "conv2d_1 (Conv2D)            (None, 24, 24, 64)        18496     \n",
            "_________________________________________________________________\n",
            "max_pooling2d (MaxPooling2D) (None, 12, 12, 64)        0         \n",
            "_________________________________________________________________\n",
            "dropout (Dropout)            (None, 12, 12, 64)        0         \n",
            "_________________________________________________________________\n",
            "flatten (Flatten)            (None, 9216)              0         \n",
            "_________________________________________________________________\n",
            "dense (Dense)                (None, 128)               1179776   \n",
            "_________________________________________________________________\n",
            "dropout_1 (Dropout)          (None, 128)               0         \n",
            "_________________________________________________________________\n",
            "dense_1 (Dense)              (None, 10)                1290      \n",
            "=================================================================\n",
            "Total params: 1,199,882\n",
            "Trainable params: 1,199,882\n",
            "Non-trainable params: 0\n",
            "_________________________________________________________________\n",
            "None\n"
          ],
          "name": "stdout"
        }
      ]
    },
    {
      "cell_type": "code",
      "metadata": {
        "id": "ZC-ciTEmMZ96",
        "colab_type": "code",
        "colab": {}
      },
      "source": [
        "# Compose the model\n",
        "model.compile(loss='categorical_crossentropy',\n",
        "              optimizer='adam',\n",
        "              metrics=['accuracy'])"
      ],
      "execution_count": 0,
      "outputs": []
    },
    {
      "cell_type": "code",
      "metadata": {
        "id": "quiDSyUwM-dg",
        "colab_type": "code",
        "colab": {
          "base_uri": "https://localhost:8080/",
          "height": 353
        },
        "outputId": "ab2f5c9e-24f7-40f3-8478-b78f12767c04"
      },
      "source": [
        "# Train the model\n",
        "history = model.fit(x_train, y_train,\n",
        "                    batch_size=32,\n",
        "                    epochs=10,\n",
        "                    verbose=2,\n",
        "                    validation_data=(x_test, y_test))"
      ],
      "execution_count": 14,
      "outputs": [
        {
          "output_type": "stream",
          "text": [
            "Epoch 1/10\n",
            "1875/1875 - 7s - loss: 0.1812 - accuracy: 0.9454 - val_loss: 0.0475 - val_accuracy: 0.9850\n",
            "Epoch 2/10\n",
            "1875/1875 - 7s - loss: 0.0772 - accuracy: 0.9777 - val_loss: 0.0364 - val_accuracy: 0.9886\n",
            "Epoch 3/10\n",
            "1875/1875 - 7s - loss: 0.0598 - accuracy: 0.9821 - val_loss: 0.0322 - val_accuracy: 0.9899\n",
            "Epoch 4/10\n",
            "1875/1875 - 7s - loss: 0.0460 - accuracy: 0.9856 - val_loss: 0.0317 - val_accuracy: 0.9903\n",
            "Epoch 5/10\n",
            "1875/1875 - 7s - loss: 0.0422 - accuracy: 0.9870 - val_loss: 0.0275 - val_accuracy: 0.9912\n",
            "Epoch 6/10\n",
            "1875/1875 - 7s - loss: 0.0356 - accuracy: 0.9888 - val_loss: 0.0294 - val_accuracy: 0.9911\n",
            "Epoch 7/10\n",
            "1875/1875 - 7s - loss: 0.0303 - accuracy: 0.9903 - val_loss: 0.0265 - val_accuracy: 0.9928\n",
            "Epoch 8/10\n",
            "1875/1875 - 7s - loss: 0.0275 - accuracy: 0.9909 - val_loss: 0.0279 - val_accuracy: 0.9930\n",
            "Epoch 9/10\n",
            "1875/1875 - 7s - loss: 0.0264 - accuracy: 0.9915 - val_loss: 0.0287 - val_accuracy: 0.9919\n",
            "Epoch 10/10\n",
            "1875/1875 - 7s - loss: 0.0233 - accuracy: 0.9928 - val_loss: 0.0254 - val_accuracy: 0.9930\n"
          ],
          "name": "stdout"
        }
      ]
    },
    {
      "cell_type": "code",
      "metadata": {
        "id": "Q4hG2aNKNcZP",
        "colab_type": "code",
        "colab": {}
      },
      "source": [
        "# Save the model\n",
        "filepath = FILEPATH + 'keras_mnist_cnn_model.h5'\n",
        "model.save(filepath)"
      ],
      "execution_count": 0,
      "outputs": []
    },
    {
      "cell_type": "markdown",
      "metadata": {
        "id": "KNpZzyuiRPKS",
        "colab_type": "text"
      },
      "source": [
        "**Load Saved Model**"
      ]
    },
    {
      "cell_type": "code",
      "metadata": {
        "id": "v2ZIvx_HRBzk",
        "colab_type": "code",
        "colab": {
          "base_uri": "https://localhost:8080/",
          "height": 420
        },
        "outputId": "45be8674-e4fd-4e5c-809f-2e9e812e05ea"
      },
      "source": [
        "# Load the saved model\n",
        "my_model = tensorflow.keras.models.load_model(filepath)\n",
        "\n",
        "# Model summary\n",
        "my_model.summary()"
      ],
      "execution_count": 16,
      "outputs": [
        {
          "output_type": "stream",
          "text": [
            "Model: \"sequential\"\n",
            "_________________________________________________________________\n",
            "Layer (type)                 Output Shape              Param #   \n",
            "=================================================================\n",
            "conv2d (Conv2D)              (None, 26, 26, 32)        320       \n",
            "_________________________________________________________________\n",
            "conv2d_1 (Conv2D)            (None, 24, 24, 64)        18496     \n",
            "_________________________________________________________________\n",
            "max_pooling2d (MaxPooling2D) (None, 12, 12, 64)        0         \n",
            "_________________________________________________________________\n",
            "dropout (Dropout)            (None, 12, 12, 64)        0         \n",
            "_________________________________________________________________\n",
            "flatten (Flatten)            (None, 9216)              0         \n",
            "_________________________________________________________________\n",
            "dense (Dense)                (None, 128)               1179776   \n",
            "_________________________________________________________________\n",
            "dropout_1 (Dropout)          (None, 128)               0         \n",
            "_________________________________________________________________\n",
            "dense_1 (Dense)              (None, 10)                1290      \n",
            "=================================================================\n",
            "Total params: 1,199,882\n",
            "Trainable params: 1,199,882\n",
            "Non-trainable params: 0\n",
            "_________________________________________________________________\n"
          ],
          "name": "stdout"
        }
      ]
    },
    {
      "cell_type": "code",
      "metadata": {
        "id": "YhaGEzmNTiDB",
        "colab_type": "code",
        "colab": {
          "base_uri": "https://localhost:8080/",
          "height": 50
        },
        "outputId": "5afb94c8-2005-4ae6-80ac-0c713d21caf6"
      },
      "source": [
        "# Check it's accuracy\n",
        "loss, acc = my_model.evaluate(x_test,  y_test, verbose=2)\n",
        "print('Restored model, accuracy: {:5.2f}%'.format(100*acc))"
      ],
      "execution_count": 17,
      "outputs": [
        {
          "output_type": "stream",
          "text": [
            "313/313 - 1s - loss: 0.0254 - accuracy: 0.9930\n",
            "Restored model, accuracy: 99.30%\n"
          ],
          "name": "stdout"
        }
      ]
    },
    {
      "cell_type": "markdown",
      "metadata": {
        "id": "VULt3gHcULws",
        "colab_type": "text"
      },
      "source": [
        "**Make Predictions**"
      ]
    },
    {
      "cell_type": "code",
      "metadata": {
        "id": "_OcZA_pyT53z",
        "colab_type": "code",
        "colab": {
          "base_uri": "https://localhost:8080/",
          "height": 122
        },
        "outputId": "21ac03b1-d4b9-4d8e-9ea0-571bc1c86567"
      },
      "source": [
        "# Make random predictions\n",
        "import numpy as np\n",
        "import random\n",
        "\n",
        "num_samples = 5\n",
        "indices = random.sample(range(test_images.shape[0] - 1), num_samples)\n",
        "images = test_images[indices]/255\n",
        "labels = test_labels[indices]\n",
        "\n",
        "for i in range(num_samples):\n",
        "    plt.subplot(1,num_samples,i+1)\n",
        "    plt.imshow(images[i].reshape(28, 28), cmap='gray')\n",
        "    plt.title(labels[i])\n",
        "    plt.axis('off')\n",
        "\n",
        "prediction = my_model.predict(images.reshape(num_samples, 28, 28, 1))\n",
        "prediction = np.array(prediction)\n",
        "predicted_label = prediction.argmax(axis=1)\n",
        "print('Predicted labels are: {}'.format(predicted_label))"
      ],
      "execution_count": 22,
      "outputs": [
        {
          "output_type": "stream",
          "text": [
            "Predicted labels are: [3 6 1 1 8]\n"
          ],
          "name": "stdout"
        },
        {
          "output_type": "display_data",
          "data": {
            "image/png": "[encoded data removed]",
            "text/plain": [
              "<Figure size 432x288 with 5 Axes>"
            ]
          },
          "metadata": {
            "tags": [],
            "needs_background": "light"
          }
        }
      ]
    },
    {
      "cell_type": "code",
      "metadata": {
        "id": "-kn2zoh3Vj-G",
        "colab_type": "code",
        "colab": {}
      },
      "source": [
        ""
      ],
      "execution_count": 0,
      "outputs": []
    }
  ]
}